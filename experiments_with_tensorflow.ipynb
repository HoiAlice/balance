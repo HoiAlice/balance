{
 "cells": [
  {
   "cell_type": "code",
   "execution_count": 88,
   "id": "69e5495c-82fc-4f37-8ff6-d59734453c8a",
   "metadata": {},
   "outputs": [],
   "source": [
    "import tensorflow as tf\n",
    "import numpy as np"
   ]
  },
  {
   "cell_type": "markdown",
   "id": "8bbe70c1-152a-495c-92db-a18f88b9890f",
   "metadata": {},
   "source": [
    "Сначала сгненерируем случайную I/O - таблицу. \n",
    "\n",
    "При расчете пропорций потребления конечных потребителей она не учитывается, так что на данном этапе можно генерировать агрегированную."
   ]
  },
  {
   "cell_type": "code",
   "execution_count": 96,
   "id": "3be03ec7-afea-4480-9146-22af93f0b654",
   "metadata": {},
   "outputs": [],
   "source": [
    "def get_Z(n,m):\n",
    "    Z = np.zeros((n+m,n+1))\n",
    "    Z[:n,:n] = np.random.random((n,n))\n",
    "    \n",
    "    S = np.sum(Z[:n,:n], axis = 0)\n",
    "    lmbds = np.random.random((n,1))\n",
    "    lmbds = np.array([lmbd/sum(lmbd) for lmbd in lmbds])\n",
    "    Z[:n,n:n+1] = np.array([S[i] * lmbds[i,:] for i in range(n)])\n",
    "    \n",
    "    D = np.sum(Z[:n,:n], axis = 1)\n",
    "    lmbds = np.random.random((n,m))\n",
    "    lmbds = np.array([lmbd/sum(lmbd) for lmbd in lmbds])\n",
    "    Z[n:n+m,:n] = np.array([D[i] * lmbds[i,:] for i in range(n)]).T\n",
    "    \n",
    "    return Z"
   ]
  },
  {
   "cell_type": "code",
   "execution_count": 138,
   "id": "06bcfee5-08bb-47f2-aa32-de87a6ccbaba",
   "metadata": {},
   "outputs": [],
   "source": [
    "n = tf.constant(3)                # отрасли\n",
    "m = tf.constant(2)                 # первичные ресурсы\n",
    "l = tf.constant(6)                 # потребители\n",
    "Z = tf.Variable(get_Z(n, m))    # I/O - матрица\n",
    "rho = tf.Variable(np.random.uniform(0.05, 0.95, n),tf.float32) # -1 * параметр CES"
   ]
  },
  {
   "cell_type": "markdown",
   "id": "dfb81299-9975-49c2-b5ad-3769afa9423b",
   "metadata": {},
   "source": [
    "Теперь достанем параметры производстьвенных функций из этой I/O таблицы. "
   ]
  },
  {
   "cell_type": "code",
   "execution_count": 142,
   "id": "aa30a53c-1b31-438f-8bb9-2ffc3b1fdb08",
   "metadata": {},
   "outputs": [],
   "source": [
    "@tf.function\n",
    "def get_W(n, m, rho, Z):\n",
    "    A = tf.reduce_sum(Z[:n,:], 1)\n",
    "    B = tf.math.pow(tf.cast((n + m),tf.float64),(rho-1)/rho)\n",
    "    W = tf.cast(B * Z[:,:n] / A, tf.float32)\n",
    "    return W"
   ]
  },
  {
   "cell_type": "markdown",
   "id": "b8364ffa-13a9-4777-8137-ba661492ff64",
   "metadata": {},
   "source": [
    "Имея на руках веса $W$ и параметры $\\rho$ можно так же определить функцию, которая по вектору цен на первичные и вторичные ресурсы будет возвращать себестоимость на вторичные ресурсы.  В дальнейшем нужно сделать чтоб они находились рек"
   ]
  },
  {
   "cell_type": "code",
   "execution_count": 143,
   "id": "6efd67c3-8c9c-406c-a574-c694cfbaeb50",
   "metadata": {},
   "outputs": [
    {
     "name": "stdout",
     "output_type": "stream",
     "text": [
      "tf.Tensor(\n",
      "[[1.4744526e-04 6.0825015e-04 2.5693888e-07]\n",
      " [1.6407868e-04 5.5186573e-04 2.0512373e-06]\n",
      " [1.3042946e-05 4.3769600e-04 7.3455061e-07]\n",
      " [1.6094932e-04 5.5296061e-04 9.1096359e-07]\n",
      " [1.3021755e-04 2.2513377e-03 5.8862923e-07]], shape=(5, 3), dtype=float32)\n"
     ]
    }
   ],
   "source": [
    "print(get_W(n, m, rho, Z))    "
   ]
  },
  {
   "cell_type": "code",
   "execution_count": null,
   "id": "53694c03-8e3d-444f-87a4-5f460c61e664",
   "metadata": {},
   "outputs": [],
   "source": []
  }
 ],
 "metadata": {
  "kernelspec": {
   "display_name": "Python 3 (ipykernel)",
   "language": "python",
   "name": "python3"
  },
  "language_info": {
   "codemirror_mode": {
    "name": "ipython",
    "version": 3
   },
   "file_extension": ".py",
   "mimetype": "text/x-python",
   "name": "python",
   "nbconvert_exporter": "python",
   "pygments_lexer": "ipython3",
   "version": "3.10.12"
  }
 },
 "nbformat": 4,
 "nbformat_minor": 5
}
