{
 "cells": [
  {
   "cell_type": "code",
   "execution_count": 7,
   "id": "48053498-ed48-4cd7-9b3d-025a780a8069",
   "metadata": {},
   "outputs": [],
   "source": [
    "import jax\n",
    "from jax import numpy as jnp\n",
    "import matplotlib.pyplot as plt\n",
    "import ces\n",
    "import balance"
   ]
  },
  {
   "cell_type": "code",
   "execution_count": 8,
   "id": "bee706e8-4c35-4b24-a255-acf281cb0c06",
   "metadata": {},
   "outputs": [],
   "source": [
    "class Balance_Model():\n",
    "    def __init__(self, n, m, seed = 0):\n",
    "        #размеры экономики\n",
    "        self.n = n\n",
    "        self.m = m \n",
    "        #ключ для RNG\n",
    "        self.key = jax.random.PRNGKey(seed)\n",
    "        #эффективная I/O-таблица\n",
    "        self.Z = jnp.zeros((n+m,n))\n",
    "        self.Z = self.Z.at[:n,:].set(jnp.eye(self.n))\n",
    "        self.Z = self.Z.at[n:,:].set(jnp.ones((self.m, self.n)))\n",
    "        #эффективные параметры \"ро\"\n",
    "        self.rho = jnp.ones(n)\n",
    "    \n",
    "    def predict(self, Z, rho, s, h, Z0):\n",
    "        n, m = Z.shape\n",
    "        n, m = m, n - m\n",
    "        W = ces.W(Z, rho)\n",
    "        p = ces.balance_prices(W, rho, s, h)\n",
    "        J = ces.J(p, W, rho) #пропорции\n",
    "        print(J.shape)\n",
    "        y = jnp.linalg.inv(jnp.diag(jnp.sum(J, axis = 0)) - J[:n,:]) @ Z0\n",
    "        return y * J"
   ]
  },
  {
   "cell_type": "code",
   "execution_count": 9,
   "id": "bf2bbef0-37dd-4ad8-97f9-de4224472d00",
   "metadata": {},
   "outputs": [],
   "source": [
    "n, m = 33, 3\n",
    "table = balance.read_NIOT('NIOTS/RUS_NIOT_nov16.xlsx')[14]\n",
    "Z = table[:,:n]\n",
    "Z0 = jnp.sum(table[:,n:], axis = 1)[:n]"
   ]
  },
  {
   "cell_type": "code",
   "execution_count": 10,
   "id": "88a8004e-4230-4e2f-9b1b-4f403065833e",
   "metadata": {},
   "outputs": [],
   "source": [
    "model = Balance_Model(n, m)\n",
    "rho = jax.random.uniform(model.key, (n,), minval=0.1, maxval = 10)\n",
    "model.Z = Z\n",
    "model.rho = rho\n",
    "s = jnp.ones(m)\n",
    "h = jnp.zeros(n)\n",
    "# именно так они и будут везде использоваться "
   ]
  },
  {
   "cell_type": "code",
   "execution_count": 11,
   "id": "70221fcc-b71b-4271-bf08-d0bfd37b46fd",
   "metadata": {},
   "outputs": [
    {
     "name": "stdout",
     "output_type": "stream",
     "text": [
      "(36, 33)\n"
     ]
    }
   ],
   "source": [
    "Z_pred = model.predict(Z, rho, s, h, Z0)"
   ]
  },
  {
   "cell_type": "code",
   "execution_count": 12,
   "id": "06434190-3968-4a97-a5ed-00b91815c4e4",
   "metadata": {},
   "outputs": [
    {
     "data": {
      "text/plain": [
       "<matplotlib.image.AxesImage at 0x7fbe74341b40>"
      ]
     },
     "execution_count": 12,
     "metadata": {},
     "output_type": "execute_result"
    },
    {
     "data": {
      "image/png": "[encoded data removed]",
      "text/plain": [
       "<Figure size 640x480 with 2 Axes>"
      ]
     },
     "metadata": {},
     "output_type": "display_data"
    }
   ],
   "source": [
    "f, (ax1, ax2) = plt.subplots(1, 2, sharey=True)\n",
    "ax1.imshow(Z, cmap='hot', interpolation='nearest')\n",
    "ax2.imshow(Z_pred, cmap='hot', interpolation='nearest')"
   ]
  },
  {
   "cell_type": "code",
   "execution_count": null,
   "id": "8cc3374b-fa55-4281-a73a-95638487ec1f",
   "metadata": {},
   "outputs": [],
   "source": []
  }
 ],
 "metadata": {
  "kernelspec": {
   "display_name": "Python 3 (ipykernel)",
   "language": "python",
   "name": "python3"
  },
  "language_info": {
   "codemirror_mode": {
    "name": "ipython",
    "version": 3
   },
   "file_extension": ".py",
   "mimetype": "text/x-python",
   "name": "python",
   "nbconvert_exporter": "python",
   "pygments_lexer": "ipython3",
   "version": "3.10.12"
  }
 },
 "nbformat": 4,
 "nbformat_minor": 5
}
