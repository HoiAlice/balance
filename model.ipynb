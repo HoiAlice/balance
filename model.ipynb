{
 "cells": [
  {
   "cell_type": "code",
   "execution_count": 54,
   "id": "48053498-ed48-4cd7-9b3d-025a780a8069",
   "metadata": {},
   "outputs": [],
   "source": [
    "import jax\n",
    "from jax import numpy as jnp\n",
    "import matplotlib.pyplot as plt\n",
    "import ces\n",
    "import balance"
   ]
  },
  {
   "cell_type": "code",
   "execution_count": 55,
   "id": "bee706e8-4c35-4b24-a255-acf281cb0c06",
   "metadata": {},
   "outputs": [],
   "source": [
    "def loss(Z, rho, s, h, Z0, Z_target):\n",
    "    n, m = Z.shape\n",
    "    n, m = m, n - m\n",
    "    W = ces.W(Z, rho)\n",
    "    p = ces.balance_prices(W, rho, s, h)\n",
    "    J = ces.J(p, W, rho)\n",
    "    Z_pred = balance.J_to_Z(J, Z0) \n",
    "    return jnp.trace(jnp.transpose(Z_pred - Z_target) @ (Z_pred - Z_target))   "
   ]
  },
  {
   "cell_type": "code",
   "execution_count": 56,
   "id": "bf2bbef0-37dd-4ad8-97f9-de4224472d00",
   "metadata": {},
   "outputs": [],
   "source": [
    "n, m = 33, 3\n",
    "key = jax.random.PRNGKey(0)\n",
    "tables = balance.read_NIOT('NIOTS/RUS_NIOT_nov16.xlsx')\n",
    "Z_target = tables[14][:,:n]                           \n",
    "Z0 = jnp.sum(tables[14][:,n:], axis = 1)[:n]"
   ]
  },
  {
   "cell_type": "code",
   "execution_count": 57,
   "id": "88a8004e-4230-4e2f-9b1b-4f403065833e",
   "metadata": {},
   "outputs": [],
   "source": [
    "Z = tables[14][:,:n]\n",
    "rho = jax.random.uniform(key, (n,), minval= -0.9, maxval = -0.1)\n",
    "s = jnp.ones(m)\n",
    "h = 0.0 * jnp.ones(n)"
   ]
  },
  {
   "cell_type": "code",
   "execution_count": 58,
   "id": "7af4ff88-bafb-4d58-b45e-a6ed0cbeefc2",
   "metadata": {},
   "outputs": [],
   "source": [
    "T = jax.jacfwd(loss, argnums = [0,1])(Z, rho, s, h, Z0, Z_target)"
   ]
  },
  {
   "cell_type": "code",
   "execution_count": 59,
   "id": "d1a87713-128e-4324-addd-ffa3de55335c",
   "metadata": {},
   "outputs": [
    {
     "data": {
      "text/plain": [
       "Array([ 2.9939506e-03, -1.2012524e-02,  4.4911294e-03, -2.4882393e-04,\n",
       "       -3.6331522e+00,  1.1300843e-05, -3.3541517e-03,  5.7494303e-04,\n",
       "       -8.4816199e-04, -1.4750770e-03, -1.2880607e-01, -1.7513130e-03,\n",
       "       -8.9151859e-03, -4.4093855e-02, -3.5544581e-04,  1.1321069e-01,\n",
       "        8.6962637e-03, -1.9829508e-03, -9.1035374e-02,  2.1323340e-02,\n",
       "        6.3107954e-03, -8.0163532e-05,  1.7459542e-04, -7.3176611e-04,\n",
       "       -6.7639330e-06, -3.9403550e-03, -1.0161088e-03, -8.3046965e-02,\n",
       "       -1.1229251e-01, -9.0770470e-03, -2.8784976e-03, -4.4665602e-04,\n",
       "       -5.7338632e-04], dtype=float32)"
      ]
     },
     "execution_count": 59,
     "metadata": {},
     "output_type": "execute_result"
    }
   ],
   "source": [
    "T[1]"
   ]
  },
  {
   "cell_type": "code",
   "execution_count": null,
   "id": "27a3d1b0-79f4-494d-bb7c-3c3ba695f494",
   "metadata": {},
   "outputs": [],
   "source": []
  }
 ],
 "metadata": {
  "kernelspec": {
   "display_name": "Python 3 (ipykernel)",
   "language": "python",
   "name": "python3"
  },
  "language_info": {
   "codemirror_mode": {
    "name": "ipython",
    "version": 3
   },
   "file_extension": ".py",
   "mimetype": "text/x-python",
   "name": "python",
   "nbconvert_exporter": "python",
   "pygments_lexer": "ipython3",
   "version": "3.10.12"
  }
 },
 "nbformat": 4,
 "nbformat_minor": 5
}
