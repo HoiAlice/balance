{
 "cells": [
  {
   "cell_type": "markdown",
   "id": "65dff9e2-dea6-44fe-be78-10293642db01",
   "metadata": {
    "tags": []
   },
   "source": [
    "# Импорты + Подготовка Данных"
   ]
  },
  {
   "cell_type": "code",
   "execution_count": 1,
   "id": "a5aadf40-6d80-41ac-8c51-12a0216686ac",
   "metadata": {},
   "outputs": [],
   "source": [
    "import jax\n",
    "from jax import numpy as jnp\n",
    "import optax\n",
    "import matplotlib.pyplot as plt\n",
    "import ces\n",
    "import balance\n",
    "from dataclasses import dataclass"
   ]
  },
  {
   "cell_type": "code",
   "execution_count": 2,
   "id": "c9a25396-56d1-45f6-8b1a-5d32d724f97b",
   "metadata": {},
   "outputs": [],
   "source": [
    "@dataclass\n",
    "class YearStat:\n",
    "    year: int #year's number\n",
    "    Z: jnp.array #IO tables\n",
    "    s: jnp.array #primal resorce's prices index\n",
    "    Y: jnp.array #final consumption\n",
    "    S: jnp.array #production capacities"
   ]
  },
  {
   "cell_type": "code",
   "execution_count": 3,
   "id": "452dfa78-b056-4049-a900-22693171daa5",
   "metadata": {},
   "outputs": [
    {
     "name": "stderr",
     "output_type": "stream",
     "text": [
      "An NVIDIA GPU may be present on this machine, but a CUDA-enabled jaxlib is not installed. Falling back to cpu.\n"
     ]
    }
   ],
   "source": [
    "tables = balance.read_NIOT('NIOTS/RUS_NIOT_nov16.xlsx')\n",
    "vvp8 = jnp.array([24.8, 26.062, 27.312, 29.304, 31.407, 33.410, 36.135, 39.219, \n",
    "        41.277, 38.049, 39.762, 41.458, 62.486, 63.602, 64.072]) #ВВП 0-14 года в ценах 8ого\n",
    "curs_abs = jnp.array([28.13, 29.18, 31.36, 30.67, 28.81, 28.31, 27.14, 25.55, \n",
    "            24.87, 31.77, 30.38, 29.39, 31.08, 31.90, 38.60]) #курс доллара\n",
    "zp_rel = jnp.array([1.209, 1.199, 1.162, 1.109, 1.106, 1.126, 1.133, 1.172, \n",
    "          1.115, 0.965, 1.052, 1.028, 1.084, 1.048, 1.012]) #реальная зп в процентах от предыдущей\n",
    "zp_abs = jnp.array([jnp.exp(jnp.sum(jnp.log(zp_rel[:year+1]))) for year in range(15)])"
   ]
  },
  {
   "cell_type": "code",
   "execution_count": 4,
   "id": "f42aa696-2acf-4f3a-9865-f938bf840e9b",
   "metadata": {},
   "outputs": [],
   "source": [
    "curs = [x/curs_abs[8] for x in curs_abs] \n",
    "vvp = [x/vvp8[8] for x in vvp8] #или наоборот нужно?\n",
    "zp = [x/zp_abs[8] for x in zp_abs]"
   ]
  },
  {
   "cell_type": "code",
   "execution_count": 5,
   "id": "975f9fa8-6f4a-4fde-bb26-25834c36161c",
   "metadata": {},
   "outputs": [],
   "source": [
    "n, m = 33, 3\n",
    "years = range(15)\n",
    "Zs = [tables[year][:,:n] for year in years]\n",
    "Ys = [jnp.sum(tables[year][:n,n:], axis = 1) for year in years]\n",
    "DATA = [YearStat(Z = Zs[year], Y = Ys[year], S = jnp.sum(Zs[year], axis = 0), \n",
    "                 year = year, s = jnp.array([curs[year], zp[year], vvp[year]])) for year in years]"
   ]
  },
  {
   "cell_type": "markdown",
   "id": "83d3c842-ec0b-4668-8d04-95378bd4cf78",
   "metadata": {
    "tags": []
   },
   "source": [
    "# Модель"
   ]
  },
  {
   "cell_type": "code",
   "execution_count": 12,
   "id": "3fb61b1f-e6c4-402a-886b-1ba518fa9ff3",
   "metadata": {},
   "outputs": [],
   "source": [
    "class BoundedModule():\n",
    "    def __init__(self, Z, rho):\n",
    "        n, m = Z.shape\n",
    "        self.n, self.m = m, n - m\n",
    "        self.rho = rho\n",
    "        self.W = ces.weights(Z, rho)\n",
    "    \n",
    "    def forward(self, lam, Y, S, s):\n",
    "        p = ces.balance_prices(self.W, self.rho, s, lam)\n",
    "        f = jnp.dot(Y,p[:n]) - jnp.dot(lam, S)\n",
    "        return f\n",
    "    \n",
    "    def __call__(self, Y, S, s):\n",
    "        key = jax.random.PRNGKey(10)\n",
    "        lam = jax.random.uniform(key, (self.n,), minval=0.0, maxval=2.0)\n",
    "        q0 = jnp.dot(Y,ces.balance_prices(self.W, self.rho, s, jnp.zeros((self.n,)))[:n])\n",
    "        learning_rate = 10e-2\n",
    "        \n",
    "        optimizer = optax.adam(learning_rate)\n",
    "        opt_state = optimizer.init(lam)\n",
    "        for i in range(10000):\n",
    "            f, grads = jax.value_and_grad(fun = self.forward, argnums=0)(lam, Y, S, s)\n",
    "            norm = jnp.linalg.norm(grads * (lam > jnp.zeros((self.n,))))\n",
    "            updates, opt_state = optimizer.update(-1 * grads, opt_state)\n",
    "            lam = jnp.maximum(optax.apply_updates(lam, updates), jnp.zeros((self.n,)))\n",
    "            if i % 50 == 0:\n",
    "                q_act = f + jnp.dot(lam, S)\n",
    "                print(f'step {i}, gradient norm:{jnp.around(a=norm, decimals=2)}, implied inflation:+{jnp.round(a = 100*(q_act / q0 - 1), decimals=-0)}%')\n",
    "            if norm <= 1e-2: #нужны нормальные правила остановки\n",
    "                q_act = f + jnp.dot(lam, S)\n",
    "                imp_inflation = 100*(q_act / q0 - 1)\n",
    "                print(f'step {i}, gradient norm:{jnp.around(norm, 2)}, implied inflation:+{imp_inflation:.2f}%')\n",
    "                break\n",
    "        return lam"
   ]
  },
  {
   "cell_type": "code",
   "execution_count": 13,
   "id": "5be3874f-a583-47af-9fcf-33e12937075c",
   "metadata": {},
   "outputs": [],
   "source": [
    "key = jax.random.PRNGKey(0)\n",
    "Z, rho = DATA[8].Z, jax.random.uniform(key, (n,), minval= -1.0, maxval=10)\n",
    "module = BoundedModule(Z, rho)"
   ]
  },
  {
   "cell_type": "code",
   "execution_count": 16,
   "id": "64c73f42-3744-49bd-8f0d-ee4fc19b2562",
   "metadata": {},
   "outputs": [
    {
     "name": "stdout",
     "output_type": "stream",
     "text": [
      "step 0, gradient norm:67352.8359375, implied inflation:+199.0%\n",
      "step 50, gradient norm:636.0899658203125, implied inflation:+56.0%\n",
      "step 100, gradient norm:10.210000038146973, implied inflation:+57.0%\n",
      "step 150, gradient norm:1.5999999046325684, implied inflation:+57.0%\n",
      "step 200, gradient norm:0.25, implied inflation:+57.0%\n",
      "step 234, gradient norm:0.009999999776482582, implied inflation:+56.58%\n",
      "lambda = [0.         0.         0.         0.         0.64       0.\n",
      " 0.         0.         0.         2.47       0.65999997 0.26\n",
      " 1.17       0.         0.         0.         2.97       1.04\n",
      " 0.         0.         0.         0.         0.         0.\n",
      " 0.06       0.         0.         0.         0.         0.\n",
      " 0.         0.         0.        ]\n"
     ]
    }
   ],
   "source": [
    "data = DATA[9]\n",
    "Y, S, s = data.Y, data.S, data.s\n",
    "lam = module(Y, S, s)\n",
    "print(f'lambda = {jnp.around(lam, 2)}')"
   ]
  },
  {
   "cell_type": "code",
   "execution_count": null,
   "id": "704d3453-fcd1-4238-a454-f8b4c6c1bb77",
   "metadata": {},
   "outputs": [],
   "source": []
  }
 ],
 "metadata": {
  "kernelspec": {
   "display_name": "Python 3 (ipykernel)",
   "language": "python",
   "name": "python3"
  },
  "language_info": {
   "codemirror_mode": {
    "name": "ipython",
    "version": 3
   },
   "file_extension": ".py",
   "mimetype": "text/x-python",
   "name": "python",
   "nbconvert_exporter": "python",
   "pygments_lexer": "ipython3",
   "version": "3.10.12"
  }
 },
 "nbformat": 4,
 "nbformat_minor": 5
}
