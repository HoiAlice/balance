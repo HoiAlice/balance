{
 "cells": [
  {
   "cell_type": "code",
   "execution_count": 1,
   "id": "7d05d884-5555-4a18-9947-c40a0fe03131",
   "metadata": {},
   "outputs": [],
   "source": [
    "import jax\n",
    "import jax.numpy as jnp\n",
    "import matplotlib.pyplot as plt\n",
    "import balance\n",
    "import CES"
   ]
  },
  {
   "cell_type": "code",
   "execution_count": 2,
   "id": "88f78bc6-fbb6-4c84-bc43-a60ee211636a",
   "metadata": {},
   "outputs": [
    {
     "name": "stderr",
     "output_type": "stream",
     "text": [
      "An NVIDIA GPU may be present on this machine, but a CUDA-enabled jaxlib is not installed. Falling back to cpu.\n"
     ]
    }
   ],
   "source": [
    "tables = balance.read_NIOT('NIOTS/RUS_NIOT_nov16.xlsx')\n",
    "table = tables[14]\n",
    "key = jax.random.PRNGKey(1)"
   ]
  },
  {
   "cell_type": "markdown",
   "id": "3d870228-72bf-4a17-bd6a-efaa849fdfed",
   "metadata": {
    "tags": []
   },
   "source": [
    "# __I\\O - таблицы__"
   ]
  },
  {
   "cell_type": "markdown",
   "id": "21863a08-5f46-447d-9f54-0390f68cfabe",
   "metadata": {},
   "source": [
    "Пусть экономика состоит из $n$ промышленных отраслей, производящие __вторичные ресурсы__ и потребляющая $m$ видов __первичных ресурсов__, так же пусть имеется $l$ __конечных потребителей__, потребляющие вторичные ресурсы. Тогда можно ввести __I/O__-таблицу $\\hat{Z}$ размера $(n+m)\\times(n+l)$, в ячейках которой записаны потоки товаров из одной отрасли в другую."
   ]
  },
  {
   "cell_type": "markdown",
   "id": "e4b94137-1b36-4c05-a04c-9934b06eda20",
   "metadata": {},
   "source": [
    "Одним из примеров баз данных можно привести $NIOT$, разделяющую экономику на $n=56$ отраслей и $l = 6$ конечных потребителя. Так же в этих таблицах можно выделить $m=3$ первичных ресурса. Так как статистика потребления первичных ресурсов конечными потребителями в некотором смысле плохая, будем считать, что конечные потребители не потребляют первичные рессурсы."
   ]
  },
  {
   "cell_type": "code",
   "execution_count": 3,
   "id": "23e84b75-b82a-4016-9d8d-d4ab1f46541b",
   "metadata": {},
   "outputs": [
    {
     "data": {
      "image/png": "[encoded data removed]",
      "text/plain": [
       "<Figure size 640x480 with 1 Axes>"
      ]
     },
     "metadata": {},
     "output_type": "display_data"
    }
   ],
   "source": [
    "plt.imshow(table, cmap='hot', interpolation='nearest')\n",
    "plt.show()"
   ]
  },
  {
   "cell_type": "markdown",
   "id": "bbf49925-7448-4d63-b15a-a416ff293cd4",
   "metadata": {
    "tags": []
   },
   "source": [
    "# __Производственные Функции__"
   ]
  },
  {
   "cell_type": "markdown",
   "id": "f0ed12ba-d8ed-4600-8147-3b91866c9eb2",
   "metadata": {},
   "source": [
    "Рассмотрим модель экономики, называемой __Межотраслевым Балансом__. Неформально ее можно описать как набор производственных функций и потребителей, которые закупаясь по некоторым рыночным ценам и максимизируя полезность\\доход воспроизводят(приближенно) __I/O__-таблицы.   Допустимых функций бесконечно много - вопрос в том как такие найти. Хорошим классом является CES. Для любой корректной $\\hat{Z}$ и люого $\\rho\\in\\mathbb{R}^{n}_{++}$ существуют веса $W$, что в равновесных ценах пропорции воспроизведутся. Стартанем отсюда."
   ]
  },
  {
   "cell_type": "code",
   "execution_count": 5,
   "id": "17da4b60-454d-4f7d-8fd6-c01a8575df53",
   "metadata": {},
   "outputs": [],
   "source": [
    "n, m, l = 33, 3, 6\n",
    "Z_hat = table[:,:n]\n",
    "rho = jax.random.uniform(key, (n,), minval=0.1, maxval = 10)\n",
    "W = CES.get_W(Z_hat, rho)"
   ]
  },
  {
   "cell_type": "markdown",
   "id": "a4918251-ac4e-4240-bfa1-e5742d5ed5cd",
   "metadata": {},
   "source": [
    "Имея на руках производственные функции можно найти равновесные цены, полагая $s$ зафиксированным(и единичным)."
   ]
  },
  {
   "cell_type": "code",
   "execution_count": 7,
   "id": "4737e803-fcec-42f9-9533-8e59cb12b3ba",
   "metadata": {},
   "outputs": [
    {
     "data": {
      "text/plain": [
       "Array([0.99999994, 1.0000001 , 0.99999994, 1.0000001 , 1.0000001 ,\n",
       "       1.        , 1.        , 1.        , 0.9999998 , 0.99999994,\n",
       "       1.0000001 , 1.0000001 , 1.0000002 , 1.        , 1.        ,\n",
       "       1.0000001 , 1.0000002 , 1.0000001 , 0.9999999 , 1.        ,\n",
       "       1.        , 0.9999999 , 1.0000004 , 1.        , 0.99999994,\n",
       "       1.        , 1.0000001 , 1.        , 0.9999999 , 1.000001  ,\n",
       "       1.        , 0.9999996 , 1.0000002 , 1.        , 1.        ,\n",
       "       1.        ], dtype=float32)"
      ]
     },
     "execution_count": 7,
     "metadata": {},
     "output_type": "execute_result"
    }
   ],
   "source": [
    "cost_f = jax.jit(lambda p: CES.CES(p, W, rho))\n",
    "s = jnp.array(jnp.ones(m))\n",
    "p = balance.get_prices(cost_f, n, s)\n",
    "p"
   ]
  },
  {
   "cell_type": "markdown",
   "id": "05775b5b-3815-4bd0-a35e-97991f5e2567",
   "metadata": {},
   "source": [
    "Имея равновесные цены $p$ можно рассчитать и пропорции потребления. Важно заметить, что это именно пропорции, а не точное воспроизведение.\n",
    "В дальнейшем мы будем так же и масштабировать, чтоб получить функцию ошибки, и ее дифференциировать. Как видно они похожи, но не 1 в 1\n",
    "(а разве не должны быть 1 в 1?)"
   ]
  },
  {
   "cell_type": "code",
   "execution_count": 8,
   "id": "aa45a482-87cb-4dbc-bc3f-4e311486ec0b",
   "metadata": {},
   "outputs": [
    {
     "data": {
      "text/plain": [
       "<matplotlib.image.AxesImage at 0x7f0785a96560>"
      ]
     },
     "execution_count": 8,
     "metadata": {},
     "output_type": "execute_result"
    },
    {
     "data": {
      "image/png": "[encoded data removed]",
      "text/plain": [
       "<Figure size 640x480 with 2 Axes>"
      ]
     },
     "metadata": {},
     "output_type": "display_data"
    }
   ],
   "source": [
    "Z = CES.JCES(p, W, rho)\n",
    "f, (ax1, ax2) = plt.subplots(1, 2, sharey=True)\n",
    "ax1.imshow(Z_hat, cmap='hot', interpolation='nearest')\n",
    "ax2.imshow(Z, cmap='hot', interpolation='nearest')"
   ]
  },
  {
   "cell_type": "code",
   "execution_count": 9,
   "id": "52241d7b-7e81-4fd4-a40f-6f49131f6ba0",
   "metadata": {},
   "outputs": [
    {
     "data": {
      "text/plain": [
       "Array(0.99999017, dtype=float32)"
      ]
     },
     "execution_count": 9,
     "metadata": {},
     "output_type": "execute_result"
    }
   ],
   "source": [
    "jnp.sum(jnp.abs(Z_hat - Z))/jnp.sum(Z_hat)"
   ]
  },
  {
   "cell_type": "markdown",
   "id": "5ce26da4-2fb2-458b-ab81-d9b43f07d0d3",
   "metadata": {},
   "source": [
    "Подгоним масштабирующие коэффициенты так, чтоб из пропорций потребления получились наиболее приближенными к данным. Для этого можно положить вектор конечного потребления известным, тогда задача будет иметь аналитическое решение. Хотя теперь над тем, чтоб взять градиент по ошибке придется постараться."
   ]
  },
  {
   "cell_type": "code",
   "execution_count": 11,
   "id": "3817bcaf-c8a0-41e9-b8dc-ffb9397dca99",
   "metadata": {},
   "outputs": [
    {
     "data": {
      "text/plain": [
       "<matplotlib.image.AxesImage at 0x7f07d052eb60>"
      ]
     },
     "execution_count": 11,
     "metadata": {},
     "output_type": "execute_result"
    },
    {
     "data": {
      "image/png": "[encoded data removed]",
      "text/plain": [
       "<Figure size 640x480 with 2 Axes>"
      ]
     },
     "metadata": {},
     "output_type": "display_data"
    }
   ],
   "source": [
    "n, m, l = 33, 3, 6\n",
    "Z_hat = table[:,:n]\n",
    "Z0_hat = jnp.sum(table[:n,n:], axis = 1)\n",
    "rho = jax.random.uniform(key, (n,), minval=0.1, maxval = 10)\n",
    "W = CES.get_W(Z_hat, rho)\n",
    "cost_f = jax.jit(lambda p: CES.CES(p, W, rho))\n",
    "s = jnp.array(jnp.ones(m))\n",
    "p = balance.get_prices(cost_f, n, s)\n",
    "Z = CES.JCES(p, W, rho)\n",
    "y = jnp.linalg.inv(jnp.diag(jnp.sum(Z, axis = 0)) - Z[:n,:]) @ Z0_hat # это гораздо лучше чем оптимизационный слой\n",
    "f, (ax1, ax2) = plt.subplots(1, 2, sharey=True)\n",
    "ax1.imshow(Z_hat, cmap='hot', interpolation='nearest')\n",
    "ax2.imshow(Z * y, cmap='hot', interpolation='nearest')"
   ]
  },
  {
   "cell_type": "code",
   "execution_count": 12,
   "id": "e1a96ab6-0cb7-4744-a663-2edec303bae3",
   "metadata": {},
   "outputs": [
    {
     "data": {
      "text/plain": [
       "Array(0.00011652, dtype=float32)"
      ]
     },
     "execution_count": 12,
     "metadata": {},
     "output_type": "execute_result"
    }
   ],
   "source": [
    "jnp.sum(jnp.abs(Z_hat - Z * y))/jnp.sum(Z_hat)"
   ]
  },
  {
   "cell_type": "markdown",
   "id": "c9146ff7-d53a-46a2-927e-82ae1a9401a4",
   "metadata": {},
   "source": [
    "Т.е наконец-то веса считаются эффективно. Осталось научиться делать обратное распростронение ошибки, и тогда можно будет применять методы машинного обучения для воспроизведения экономики. Нужно сделать все по стандартам, чтоб легко можно было прикрутить цены на производственные мощности или члены для конечных потребителей. "
   ]
  },
  {
   "cell_type": "markdown",
   "id": "9ae71d18-435f-438b-bce3-005b342a2b08",
   "metadata": {},
   "source": [
    "# Модель Машинного Обучения"
   ]
  },
  {
   "cell_type": "markdown",
   "id": "7def4786-9d41-44ba-88f6-f5ae019db596",
   "metadata": {},
   "source": [
    "Одной из возникших задач является отыскание таких параметров $W,\\rho$, что по паре $(s, \\hat{Z}_{0})$ можно было предсказать матрицу промежуточного потребления $Z$ наиболее приближенную к реальной матрице промежуточного потребления $\\hat{Z}$. Такие коэффициенты можно подобрать используя методы машинного обучения."
   ]
  },
  {
   "cell_type": "code",
   "execution_count": null,
   "id": "04a926f7-1d63-4fb0-9219-e4975bcd5ebd",
   "metadata": {},
   "outputs": [],
   "source": []
  }
 ],
 "metadata": {
  "kernelspec": {
   "display_name": "Python 3 (ipykernel)",
   "language": "python",
   "name": "python3"
  },
  "language_info": {
   "codemirror_mode": {
    "name": "ipython",
    "version": 3
   },
   "file_extension": ".py",
   "mimetype": "text/x-python",
   "name": "python",
   "nbconvert_exporter": "python",
   "pygments_lexer": "ipython3",
   "version": "3.10.12"
  }
 },
 "nbformat": 4,
 "nbformat_minor": 5
}
