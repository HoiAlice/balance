{
 "cells": [
  {
   "cell_type": "code",
   "execution_count": 1,
   "id": "ef036ef3-c3a6-4206-826c-6fe95eae0e5d",
   "metadata": {},
   "outputs": [],
   "source": [
    "import numpy as np\n",
    "import pandas as pd\n",
    "import matplotlib.pyplot as plt\n",
    "import balance"
   ]
  },
  {
   "cell_type": "markdown",
   "id": "ced94474-389d-4fab-8bd4-a84212e8d876",
   "metadata": {},
   "source": [
    "Пусть $f:\\mathbb{R}^{n+m}_{+}\\rightarrow\\mathbb{R}^{n}_{+}$ - непрерывная, монотонно-неубывающая функция, обращающимися в нуле в нуль. Также пусть она покомпонентно-вогнута и 1-положительна однородна. Тогда эта функция называется \\textbf{неоклассической}, а класс таких функций обозначается как $\\mathbf{\\Phi_{n+m}}$. Интересным параметрическим подклассом для этих функций является класс $CES_{n+m}\\subset\\Phi_{n+m}$, содержащие функции вида $f^{j}(x, y) = \\left[\\sum\\limits_{i=1}^{n}\\left(A^{j}_{i}x^{i}\\right)^{-\\rho_{j}} + \\sum\\limits_{k=1}^{m}\\left(B^{j}_{k}y^{k}\\right)^{-\\rho_{j}}\\right]^{\\frac{-1}{\\rho_{j}}}$, где $A,B\\geq0$ а $\\rho\\in(0,-1)^{n}$ - параметры. Так получается, что пара $(B,y)$ избыточна, ведь это оба - параметры. Заменим их величиной $b^{j} = \\left[\\sum\\limits_{k=1}^{m}\\left(B^{j}_{k}y^{k}\\right)^{-\\rho_{j}}\\right]^{\\frac{-1}{\\rho_{j}}}$"
   ]
  },
  {
   "cell_type": "markdown",
   "id": "21f01057-d521-4734-9c9d-5aa807b07826",
   "metadata": {},
   "source": [
    "Зафиксируем функцию $f\\in\\Phi_{n+m}$ и вспомогательный вектор $y\\in\\mathbb{R}^{m}_{++}$, для которых будем решать задачу по поиску $x\\in\\mathbb{R}^{n}_{++}$ решающий уравнение $f(x,y) = x$. Для численных экспериментов с нахождением решений сузим класс функций до $CES$, с которыми будем далее экспериментировать."
   ]
  },
  {
   "cell_type": "code",
   "execution_count": 2,
   "id": "0b9a2de4-3dad-4884-afdc-a32f2e58e144",
   "metadata": {},
   "outputs": [],
   "source": [
    "class CES():\n",
    "    def __call__ (self, x): # векторризуй это\n",
    "        y = np.array([sum([np.power(self.A[i, j] * x[j], -1 * self.rho[i]) for j in range(self.n)]) for i in range(self.n)])\n",
    "        y = np.array(np.power(y + np.power(self.b, -1 * self.rho), -1 / self.rho))\n",
    "        return y\n",
    "        \n",
    "    def set_param(self, A, b, rho):\n",
    "        self.n = A.shape[0]\n",
    "        self.A = A\n",
    "        self.b = b\n",
    "        self.rho = rho\n",
    "        return self\n",
    "        \n",
    "    def randomize(self, n): #вместо случайных матриц лучше брать реальные задачи \n",
    "        self.n = n\n",
    "        rho = -1 * (np.random.random() * 0.9 + 0.05)\n",
    "        A = np.random.randint(0, 2, (n, n))\n",
    "        B = np.array([[np.power(A[i, j], -1 * rho) for j in range(n)] for i in range(n)])\n",
    "        d = np.power(max(np.sum(B, axis = 0)), -1 / rho)\n",
    "        self.A =  A / d\n",
    "        self.b = np.random.random(n)\n",
    "        self.rho = np.ones(n) * rho + 0.025 * (1 - 2 * np.random.uniform(n))\n",
    "        return self\n",
    "    \n",
    "    def get_g(self):\n",
    "        c = np.array([np.power((1 - np.power(self.A[i,i], -1 * self.rho[i])), 1/self.rho[i]) for i in range(self.n)])\n",
    "        A = np.diag(c) @ self.A\n",
    "        for i in range(self.n):\n",
    "            A[i, i] = 0\n",
    "        b = np.diag(c) @ self.b\n",
    "        return CES().set_param(A,b,self.rho)"
   ]
  },
  {
   "cell_type": "code",
   "execution_count": 3,
   "id": "5e3be765-caab-414b-bc08-674e8900b82d",
   "metadata": {},
   "outputs": [],
   "source": [
    "n = 61\n",
    "f = CES().randomize(n = n)\n",
    "g = f.get_g()"
   ]
  },
  {
   "cell_type": "code",
   "execution_count": 4,
   "id": "f4c83873-8389-4e46-8ec0-e503d7fc086e",
   "metadata": {},
   "outputs": [
    {
     "data": {
      "image/png": "[encoded data removed]",
      "text/plain": [
       "<Figure size 640x480 with 1 Axes>"
      ]
     },
     "metadata": {},
     "output_type": "display_data"
    }
   ],
   "source": [
    "x = np.zeros(n)\n",
    "y = np.zeros(n)\n",
    "data_f = []\n",
    "data_g = []\n",
    "for i in range(15):\n",
    "    x = f(x)\n",
    "    y = g(y)\n",
    "    data_f.append(np.linalg.norm(f(x) - x))\n",
    "    data_g.append(np.linalg.norm(f(y) - y))\n",
    "plt.plot(data_f)\n",
    "plt.plot(data_g)\n",
    "plt.yscale('log')"
   ]
  },
  {
   "cell_type": "code",
   "execution_count": 5,
   "id": "a73fc524-5ff2-48ce-9930-189d5eb18516",
   "metadata": {},
   "outputs": [
    {
     "data": {
      "text/plain": [
       "array([7.13179270e-07, 2.86775384e-05, 2.23080977e-07, 1.48389095e-06,\n",
       "       4.02600189e-07, 5.57116142e-07, 5.99114080e-07, 4.39892399e-06,\n",
       "       8.16059094e-07, 4.36400454e-06, 4.42750679e-06, 5.05558691e-07,\n",
       "       4.12596695e-07, 1.78970782e-05, 1.24765924e-05, 2.03525819e-06,\n",
       "       5.68992008e-07, 3.71616537e-06, 6.10779676e-07, 4.02493807e-06,\n",
       "       8.04058210e-07, 3.85691576e-07, 5.48065636e-07, 5.10349890e-05,\n",
       "       1.58164259e-06, 2.59927055e-07, 2.04489122e-05, 6.17359624e-07,\n",
       "       6.23880820e-07, 1.73844046e-06, 3.48139835e-06, 1.94699299e-07,\n",
       "       4.99273952e-07, 3.49522216e-05, 3.33724050e-07, 5.24903666e-07,\n",
       "       6.04202905e-07, 5.76321447e-07, 9.08225827e-06, 6.39047285e-07,\n",
       "       1.11125740e-06, 1.04242306e-06, 4.60431721e-06, 2.54503752e-07,\n",
       "       4.29657721e-07, 2.89645798e-07, 2.95180846e-04, 1.46683483e-05,\n",
       "       9.03263949e-07, 9.89864618e-07, 2.30814835e-07, 1.48869753e-04,\n",
       "       1.02712164e-06, 3.17016389e-06, 3.77718027e-06, 3.00060151e-06,\n",
       "       2.45805071e-07, 1.36888489e-06, 3.28654228e-07, 9.80941739e-07,\n",
       "       3.46393016e-07])"
      ]
     },
     "execution_count": 5,
     "metadata": {},
     "output_type": "execute_result"
    }
   ],
   "source": [
    "x - f.b"
   ]
  },
  {
   "cell_type": "code",
   "execution_count": 6,
   "id": "914afef8-a74e-43ed-b6c3-01517d3a471f",
   "metadata": {},
   "outputs": [
    {
     "data": {
      "text/plain": [
       "array([0., 0., 0., 0., 0., 0., 0., 0., 0., 0., 0., 0., 0., 0., 0., 0., 0.,\n",
       "       0., 0., 0., 0., 0., 0., 0., 0., 0., 0., 0., 0., 0., 0., 0., 0., 0.,\n",
       "       0., 0., 0., 0., 0., 0., 0., 0., 0., 0., 0., 0., 0., 0., 0., 0., 0.,\n",
       "       0., 0., 0., 0., 0., 0., 0., 0., 0., 0.])"
      ]
     },
     "execution_count": 6,
     "metadata": {},
     "output_type": "execute_result"
    }
   ],
   "source": [
    "f(x) - x"
   ]
  },
  {
   "cell_type": "markdown",
   "id": "d942f411-ef0c-41f6-be9b-38db14af092b",
   "metadata": {},
   "source": [
    "Для синтетических данных что-то не получилось интересных результатов - все цены приблизительно равны затратам на первичные ресурсы. Значит подготовим тестов из реальных данных, а именно NIOT __(National Input-Output Tables)__."
   ]
  },
  {
   "cell_type": "markdown",
   "id": "309fed89-db02-48a4-8142-a438470839a5",
   "metadata": {},
   "source": [
    "Чисто нулевые строки и столбцы можно вычеркнуть за ненадобностью - их не производят и не потребляют. Вычеркнем их из теблицы для дальнейшего анализа."
   ]
  },
  {
   "cell_type": "code",
   "execution_count": 7,
   "id": "0c8c0c81-3d92-4f02-bfab-a7119b851847",
   "metadata": {},
   "outputs": [
    {
     "name": "stderr",
     "output_type": "stream",
     "text": [
      "An NVIDIA GPU may be present on this machine, but a CUDA-enabled jaxlib is not installed. Falling back to cpu.\n"
     ]
    }
   ],
   "source": [
    "tables = balance.read_NIOT('NIOTS/RUS_NIOT_nov16.xlsx')"
   ]
  },
  {
   "cell_type": "code",
   "execution_count": 8,
   "id": "daa34f2e-8441-4e1e-be0e-46f6912b7f9a",
   "metadata": {},
   "outputs": [
    {
     "name": "stderr",
     "output_type": "stream",
     "text": [
      "/tmp/ipykernel_19426/2633109205.py:2: RuntimeWarning: divide by zero encountered in log\n",
      "  plt.imshow(np.log(table), cmap='hot', interpolation='nearest')\n"
     ]
    },
    {
     "data": {
      "image/png": "[encoded data removed]",
      "text/plain": [
       "<Figure size 640x480 with 1 Axes>"
      ]
     },
     "metadata": {},
     "output_type": "display_data"
    }
   ],
   "source": [
    "table = tables[14]\n",
    "plt.imshow(np.log(table), cmap='hot', interpolation='nearest')\n",
    "plt.show()"
   ]
  },
  {
   "cell_type": "code",
   "execution_count": 9,
   "id": "76ef72e1-446f-4074-b215-2899a2b3c295",
   "metadata": {
    "tags": []
   },
   "outputs": [],
   "source": [
    "import jax.numpy as jnp\n",
    "from jax import random\n",
    "key = random.PRNGKey(0)\n",
    "rho = random.uniform(key, (34,), minval=0.1, maxval = 10)\n",
    "W, W0 = balance.get_W(table, rho)"
   ]
  },
  {
   "cell_type": "code",
   "execution_count": 11,
   "id": "15fcbf55-0b08-4dc0-be17-2d716da0ef29",
   "metadata": {},
   "outputs": [
    {
     "data": {
      "text/plain": [
       "Array([0.08017016, 0.1117626 , 0.11818714, 0.00941634, 0.0080217 ,\n",
       "       0.00993493, 0.15783183, 0.04096717, 0.00609489, 0.01509988,\n",
       "       0.10954095, 0.01352543, 0.01418139, 0.08366772, 0.00721815,\n",
       "       0.13508861, 0.18176311, 0.00417684, 0.2165112 , 0.08215491,\n",
       "       0.09857245, 0.00103732, 0.01372353, 0.03175241, 0.01128035,\n",
       "       0.0142679 , 0.05211789, 0.07959297, 0.12307544, 0.11490824,\n",
       "       0.0094088 , 0.06705137, 0.015438  , 1.        , 1.        ,\n",
       "       1.        ], dtype=float32)"
      ]
     },
     "execution_count": 11,
     "metadata": {},
     "output_type": "execute_result"
    }
   ],
   "source": [
    "q = jnp.zeros((36,))\n",
    "q = q.at[33:].set([1,1,1])\n",
    "for _ in range(100):\n",
    "    q = q.at[:33].set(balance.CES(q, W, rho[:-1])\n",
    "q"
   ]
  },
  {
   "cell_type": "markdown",
   "id": "e0b65155-b283-4c73-a037-db73a5845de6",
   "metadata": {},
   "source": [
    "Имея на руках симметричную таблицу __NOIT__ и зафиксировав набор степеней $\\{\\rho_{i}\\in(-1, 0)\\}_{i=1}^{n+l}$ можно найти такие коэффициенты $A, B\\geq 0$ что производственные $CES$-функции с этими коэффициентами, которые вопсроизводят выпуск из __NOIT__ при заданном потреблении. Вопрос - воспроизводят ли они равновесие? Но сначала найдем коэффициенты для производственных функций.\n",
    "Тогда зафиксируем $\\{R_{i}\\in(0,+\\infty)\\}_{i=1}^{n+l}$ - показатели производственных функций\\функций полезности конечных потребителей."
   ]
  },
  {
   "cell_type": "code",
   "execution_count": null,
   "id": "a79a385b-21ec-4ac7-918a-143818038d61",
   "metadata": {},
   "outputs": [],
   "source": [
    "n, m, l = table.shape[0] - 3, 3, 1\n",
    "rho = np.random.uniform(-0.99,-0.01,n)\n",
    "R = -1 * rho / (1 + rho)\n",
    "total= np.sum(table, axis = 1)\n",
    "raw = np.array([np.power(sum([np.power(table[j,i]/total[j], -1 * R[i]) for j in range(n + m)]), -1 / R[i]) for i in range(n)])\n",
    "A = np.array([[total[j] * raw[i] / total[i] for j in range(n+m)] for i in range(n)])"
   ]
  },
  {
   "cell_type": "code",
   "execution_count": null,
   "id": "b651fdcb-a76e-4156-b705-211187fd0342",
   "metadata": {},
   "outputs": [],
   "source": [
    "s = np.array([1, 1, 1])\n",
    "A, b = A[:n,:n], np.array([np.power(sum([np.power(A[:n,-m:][j,k] * s[k], -1 * rho[j]) for k in range(m)]), -1 / rho[j]) for j in range(n)])\n",
    "f = CES().set_param(A, b, rho)\n",
    "g = f.get_g()"
   ]
  },
  {
   "cell_type": "code",
   "execution_count": null,
   "id": "0a615941-f882-4388-b1cd-ac78fd36c54e",
   "metadata": {},
   "outputs": [],
   "source": [
    "p = np.zeros(n)\n",
    "q = np.zeros(n)\n",
    "data_f = []\n",
    "data_g = []\n",
    "for i in range(50):\n",
    "    p = f(p)\n",
    "    q = g(q)\n",
    "    data_f.append(np.linalg.norm(f(p) - p))\n",
    "    data_g.append(np.linalg.norm(f(q) - q))\n",
    "plt.plot(data_f)\n",
    "plt.plot(data_g)\n",
    "plt.yscale('log')"
   ]
  },
  {
   "cell_type": "markdown",
   "id": "a9b3535f-006c-41e3-a3ed-f3209680a473",
   "metadata": {},
   "source": [
    "Осталось раздобыть реальные индексы цен и проверить насколько быстро происходящее сходится. А то пока до машинной точности за 30 шагов.\n",
    "\"медленная\" итерация вообще якобы находит точное решение. Да и достегает большей точности, видимо из-за сомнительной вычислительной точности. "
   ]
  },
  {
   "cell_type": "markdown",
   "id": "eb92d75d-83f1-415c-8269-6d1bf35d1039",
   "metadata": {},
   "source": [
    "Имея индекс цен можно расчитать пропорциональные ресурчные корзины:"
   ]
  },
  {
   "cell_type": "code",
   "execution_count": null,
   "id": "a530a32d-33da-4e1a-a0b5-adcdb5c691fb",
   "metadata": {},
   "outputs": [],
   "source": [
    "table_1 = np.array([[A[i, j] * np.power(p[i]/A[i,j]/p[j], 1 + rho[i]) for j in range(n)] for i in range(n)]).T # ошибка тут\n",
    "table_2 = table[:33,:33]"
   ]
  },
  {
   "cell_type": "code",
   "execution_count": null,
   "id": "cf434ede-09ec-4fbe-8d6a-1b8a7c0bf9e4",
   "metadata": {},
   "outputs": [],
   "source": [
    "f, (ax1, ax2) = plt.subplots(1, 2, sharey=True)\n",
    "ax1.imshow(table_1, cmap='hot', interpolation='nearest')\n",
    "ax2.imshow(table_2, cmap='hot', interpolation='nearest')\n",
    "error = np.mean(np.array([np.linalg.norm(table_1[:, j]/np.linalg.norm(table_1[:, j]) - table_2[:, j]/np.linalg.norm(table_2[:, j])) for j in range(n)]))\n",
    "print(error)"
   ]
  },
  {
   "cell_type": "markdown",
   "id": "0f27681b-df75-415e-bbaf-ea84bed8600a",
   "metadata": {},
   "source": [
    "Ахахаха, а что-то не работает лол. __(ИЛИ ЭТО И ЕСТЬ ХОРОШО?)__\n",
    "\n",
    "Все-таки я везде оставляю один и тот же $\\rho$, а $s$ выбираю от балды. \n",
    "\n",
    "Вероятно необходимо определить условия существования, и подгонять аки машинисты."
   ]
  },
  {
   "cell_type": "code",
   "execution_count": null,
   "id": "35a1fce0-3136-48cd-a9ea-5561b70995dc",
   "metadata": {},
   "outputs": [],
   "source": []
  }
 ],
 "metadata": {
  "kernelspec": {
   "display_name": "Python 3 (ipykernel)",
   "language": "python",
   "name": "python3"
  },
  "language_info": {
   "codemirror_mode": {
    "name": "ipython",
    "version": 3
   },
   "file_extension": ".py",
   "mimetype": "text/x-python",
   "name": "python",
   "nbconvert_exporter": "python",
   "pygments_lexer": "ipython3",
   "version": "3.10.12"
  }
 },
 "nbformat": 4,
 "nbformat_minor": 5
}
